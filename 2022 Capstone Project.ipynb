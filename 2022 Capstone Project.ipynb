{
 "cells": [
  {
   "cell_type": "code",
   "execution_count": 1,
   "id": "ad53a634",
   "metadata": {},
   "outputs": [],
   "source": [
    "# Setting up imports\n",
    "from nltk.tokenize import sent_tokenize\n",
    "from sklearn.preprocessing import OneHotEncoder\n",
    "\n",
    "import pandas as pd\n",
    "from sklearn import tree\n",
    "from sklearn.preprocessing import OneHotEncoder as ohe\n",
    "import numpy as np\n",
    "from sklearn.neural_network import MLPClassifier\n",
    "from sklearn.metrics import classification_report\n",
    "\n",
    "from typing import List\n"
   ]
  },
  {
   "cell_type": "code",
   "execution_count": 2,
   "id": "08787208",
   "metadata": {},
   "outputs": [
    {
     "name": "stderr",
     "output_type": "stream",
     "text": [
      "/var/folders/8g/1_g21rsx5zbc0ldsn_jwc7_w0000gn/T/ipykernel_80799/3595707002.py:13: FutureWarning: The behavior of `series[i:j]` with an integer-dtype index is deprecated. In a future version, this will be treated as *label-based* indexing, consistent with e.g. `series[i]` lookups. To retain the old behavior, use `series.iloc[i:j]`. To get the future behavior, use `series.loc[i:j]`.\n",
      "  index = df_train_val['values'][0:x_index].index\n"
     ]
    }
   ],
   "source": [
    "#Loading in Data\n",
    "df_temp = pd.read_parquet('temporary.parquet')\n",
    "df_test_l = pd.read_parquet('test_labels.parquet')\n",
    "df_test_val = pd.read_parquet('test_values.parquet')\n",
    "df_train_l = pd.read_parquet('train_labels.parquet')\n",
    "df_train_val = pd.read_parquet('train_values.parquet')\n",
    "df_val_l = pd.read_parquet('val_labels.parquet')\n",
    "df_val_val = pd.read_parquet('val_values.parquet')\n",
    "\n",
    "x_index = 300000\n",
    "y_index = 150000\n",
    "\n",
    "index = df_train_val['values'][0:x_index].index"
   ]
  },
  {
   "cell_type": "code",
   "execution_count": 3,
   "id": "fd98dab6",
   "metadata": {},
   "outputs": [
    {
     "name": "stderr",
     "output_type": "stream",
     "text": [
      "/var/folders/8g/1_g21rsx5zbc0ldsn_jwc7_w0000gn/T/ipykernel_80799/640236032.py:1: FutureWarning: The behavior of `series[i:j]` with an integer-dtype index is deprecated. In a future version, this will be treated as *label-based* indexing, consistent with e.g. `series[i]` lookups. To retain the old behavior, use `series.iloc[i:j]`. To get the future behavior, use `series.loc[i:j]`.\n",
      "  len(df_train_l['type'][0:400000].unique())\n"
     ]
    },
    {
     "data": {
      "text/plain": [
       "78"
      ]
     },
     "execution_count": 3,
     "metadata": {},
     "output_type": "execute_result"
    }
   ],
   "source": [
    "len(df_train_l['type'][0:400000].unique())"
   ]
  },
  {
   "cell_type": "code",
   "execution_count": 4,
   "id": "bbfe86ca",
   "metadata": {},
   "outputs": [],
   "source": [
    "# Split testing data into individual values\n",
    "temp_data = []\n",
    "data = []\n",
    "for i in index:\n",
    "    te = df_train_val['values'][i].split(',')\n",
    "    \n",
    "    for j in te:\n",
    "        j = j.strip(\"''\").strip('[').strip(']').strip(\"'\").strip(\" '\")\n",
    "        data.append([j, df_train_l['type'][i]])\n",
    "    temp_data.append(data)"
   ]
  },
  {
   "cell_type": "code",
   "execution_count": 5,
   "id": "9693aaac",
   "metadata": {},
   "outputs": [],
   "source": [
    "#Feature Engineering \n",
    "def collect_features(string):\n",
    "    feature = []\n",
    "    length = len(string)\n",
    "    num_len = 0\n",
    "    space_len = 0\n",
    "    special_len = 0\n",
    "    vowel_len = 0\n",
    "    v_a = 0\n",
    "    v_e = 0\n",
    "    v_i = 0\n",
    "    v_o = 0\n",
    "    v_u = 0\n",
    "    v_a = 0\n",
    "    v_e = 0\n",
    "    v_i = 0\n",
    "    v_o = 0\n",
    "    v_u = 0\n",
    "    c_b = 0\n",
    "    c_c = 0\n",
    "    c_d = 0\n",
    "    c_f = 0\n",
    "    c_g = 0\n",
    "    c_h = 0\n",
    "    c_j = 0\n",
    "    c_k = 0\n",
    "    c_l = 0\n",
    "    c_m = 0\n",
    "    c_n = 0\n",
    "    c_p = 0\n",
    "    c_q = 0\n",
    "    c_r = 0\n",
    "    c_s = 0\n",
    "    c_t = 0\n",
    "    c_v = 0\n",
    "    c_w = 0\n",
    "    c_x = 0\n",
    "    c_y = 0\n",
    "    c_z = 0\n",
    "    n_0 = 0\n",
    "    n_1 = 0\n",
    "    n_2 = 0\n",
    "    n_3 = 0\n",
    "    n_4 = 0\n",
    "    n_5 = 0\n",
    "    n_6 = 0\n",
    "    n_7 = 0\n",
    "    n_8 = 0\n",
    "    n_9 = 0\n",
    "    for j in string:\n",
    "        if j.isnumeric():\n",
    "            num_len += 1\n",
    "        if j.isspace():\n",
    "            space_len += 1\n",
    "        if not j.isalnum() and not j.isspace():\n",
    "             special_len += 1\n",
    "        if j == 'a' or j == 'e' or j == 'i' or j == 'o' or j == 'u' or j == 'A' or j == 'E' or j == 'I' or j == 'O' or j == 'U':\n",
    "            vowel_len += 1\n",
    "        if j == 'a' or j == 'A':\n",
    "            v_a += 1\n",
    "        if j == 'e' or j == 'E':\n",
    "            v_e += 1 \n",
    "        if j == 'i' or j == 'I':\n",
    "            v_i += 1\n",
    "        if j == 'o' or j == 'O':\n",
    "            v_o += 1\n",
    "        if j == 'u' or j == 'U':\n",
    "            v_u += 1\n",
    "        if j == 'b' or j == 'B':\n",
    "            c_b += 1\n",
    "        if j == 'c' or j == 'C':\n",
    "            c_c += 1 \n",
    "        if j == 'd' or j == 'D':\n",
    "            c_d += 1\n",
    "        if j == 'f' or j == 'F':\n",
    "            c_f += 1\n",
    "        if j == 'g' or j == 'G':\n",
    "            c_g += 1\n",
    "        if j == 'h' or j == 'H':\n",
    "            c_h += 1\n",
    "        if j == 'j' or j == 'J':\n",
    "            c_j += 1 \n",
    "        if j == 'k' or j == 'K':\n",
    "            c_k += 1\n",
    "        if j == 'l' or j == 'L':\n",
    "            c_l += 1\n",
    "        if j == 'm' or j == 'M':\n",
    "            c_m += 1\n",
    "        if j == 'n' or j == 'N':\n",
    "            c_n += 1\n",
    "        if j == 'p' or j == 'P':\n",
    "            c_p += 1 \n",
    "        if j == 'q' or j == 'Q':\n",
    "            c_q += 1\n",
    "        if j == 'r' or j == 'R':\n",
    "            c_r += 1\n",
    "        if j == 's' or j == 'S':\n",
    "            c_s += 1\n",
    "        if j == 't' or j == 'T':\n",
    "            c_t += 1\n",
    "        if j == 'v' or j == 'V':\n",
    "            c_v += 1\n",
    "        if j == 'w' or j == 'W':\n",
    "            c_w += 1\n",
    "        if j == 'x' or j == 'X':\n",
    "            c_x += 1 \n",
    "        if j == 't' or j == 'Y':\n",
    "            c_y += 1\n",
    "        if j == 'z' or j == 'Z':\n",
    "            c_z += 1\n",
    "        if j == 0:\n",
    "            n_0 += 1\n",
    "        if j == 1:\n",
    "            n_1 += 1\n",
    "        if j == 2:\n",
    "            n_2 += 1\n",
    "        if j == 3:\n",
    "            n_3 += 1\n",
    "        if j == 4:\n",
    "            n_4 += 1\n",
    "        if j == 5:\n",
    "            n_5 += 1\n",
    "        if j == 6:\n",
    "            n_6 += 1\n",
    "        if j == 7:\n",
    "            n_7 += 1\n",
    "        if j == 8:\n",
    "            n_8 += 1\n",
    "        if j == 9:\n",
    "            n_9 += 1\n",
    "    feature.append([length, num_len, space_len, special_len, vowel_len, v_a, v_e, v_i, v_o, v_u, \n",
    "                                  c_b, c_c, c_d, c_f, c_g, c_h, c_j, c_k, c_l, c_m, c_n, c_p, c_q, \n",
    "                                  c_r, c_s, c_t, c_v, c_w, c_x, c_y, c_z, n_0, n_1, n_2, n_3, n_4, n_5, n_6, \n",
    "                                  n_7, n_8, n_9])\n",
    "    return feature[0]"
   ]
  },
  {
   "cell_type": "code",
   "execution_count": 6,
   "id": "e58c8529",
   "metadata": {},
   "outputs": [],
   "source": [
    "#Splits training data into y values and x values and applies feature engineering onto x values\n",
    "def process_features(data_file):\n",
    "    y = []\n",
    "    data = []\n",
    "    for i in data_file: \n",
    "        temp = []\n",
    "        y.append(i[1])\n",
    "        \n",
    "        m = i[0].strip(\"''\").strip(\"'\").replace('[', '')\n",
    "        feat = collect_features(m)\n",
    "        \n",
    "        data.append(feat)\n",
    "    return y, data"
   ]
  },
  {
   "cell_type": "code",
   "execution_count": 7,
   "id": "1c357958",
   "metadata": {},
   "outputs": [],
   "source": [
    "#splits testing data into individual values \n",
    "def process_test(data, ind):\n",
    "    labels = []\n",
    "    for i in data[0:ind].index:\n",
    "        samples = []\n",
    "        te = data[i].split(',')\n",
    "        for j in te:\n",
    "            d = j.strip(\"''\").strip('[').strip(']').strip(\"'\").strip(\" '\")\n",
    "            feat = collect_features(d)\n",
    "            samples.append(feat)\n",
    "        #print(df_test_val['values'][i])\n",
    "        ans = clf.predict(samples)\n",
    "        labels.append(max(ans))\n",
    "    return labels  \n",
    "        #print(ans)"
   ]
  },
  {
   "cell_type": "code",
   "execution_count": 8,
   "id": "ddb25504",
   "metadata": {},
   "outputs": [],
   "source": [
    "#Assigns cleaned and processed data to X and Y \n",
    "Y, X = process_features(data)"
   ]
  },
  {
   "cell_type": "code",
   "execution_count": 9,
   "id": "8262986b",
   "metadata": {},
   "outputs": [],
   "source": [
    "#Fits decision tree\n",
    "clf = tree.DecisionTreeClassifier()\n",
    "clf = clf.fit(X, Y)"
   ]
  },
  {
   "cell_type": "code",
   "execution_count": 10,
   "id": "222858ba",
   "metadata": {},
   "outputs": [
    {
     "name": "stderr",
     "output_type": "stream",
     "text": [
      "/var/folders/8g/1_g21rsx5zbc0ldsn_jwc7_w0000gn/T/ipykernel_51478/3735501266.py:3: FutureWarning: The behavior of `series[i:j]` with an integer-dtype index is deprecated. In a future version, this will be treated as *label-based* indexing, consistent with e.g. `series[i]` lookups. To retain the old behavior, use `series.iloc[i:j]`. To get the future behavior, use `series.loc[i:j]`.\n",
      "  for i in data[0:ind].index:\n",
      "/var/folders/8g/1_g21rsx5zbc0ldsn_jwc7_w0000gn/T/ipykernel_51478/3584455270.py:3: FutureWarning: The behavior of `series[i:j]` with an integer-dtype index is deprecated. In a future version, this will be treated as *label-based* indexing, consistent with e.g. `series[i]` lookups. To retain the old behavior, use `series.iloc[i:j]`. To get the future behavior, use `series.loc[i:j]`.\n",
      "  labels = df_test_l['type'][0:y_index]\n"
     ]
    }
   ],
   "source": [
    "\n",
    "given_labeles = process_test(df_test_val['values'], y_index)\n",
    "\n",
    "labels = df_test_l['type'][0:y_index]\n",
    "\n",
    "valu = list(zip(given_labeles, labels))\n",
    "\n",
    "acc = pd.DataFrame(valu, columns = ['True', 'Assigned'], index = df_test_l.index[0:y_index])\n",
    "\n",
    "similar = []\n",
    "for i in acc.values:\n",
    "    if i[0] == i[1]:\n",
    "        similar.append(True)\n",
    "    elif i[0] != i[1]:\n",
    "        similar.append(False)\n",
    "acc['similar'] = similar"
   ]
  },
  {
   "cell_type": "code",
   "execution_count": 11,
   "id": "be182189",
   "metadata": {},
   "outputs": [
    {
     "name": "stdout",
     "output_type": "stream",
     "text": [
      "                precision    recall  f1-score   support\n",
      "\n",
      "       address       0.06      0.40      0.11         5\n",
      "     affiliate       0.00      0.00      0.00         0\n",
      "   affiliation       0.17      0.80      0.29         5\n",
      "           age       0.50      0.85      0.63        13\n",
      "         album       0.00      0.00      0.00         4\n",
      "          area       0.22      0.50      0.31         8\n",
      "        artist       0.00      0.00      0.00         2\n",
      "    birth Date       0.00      0.00      0.00         1\n",
      "   birth Place       0.00      0.00      0.00         1\n",
      "         brand       0.00      0.00      0.00         1\n",
      "      capacity       0.33      1.00      0.50         1\n",
      "      category       0.04      0.50      0.07         2\n",
      "          city       0.12      0.50      0.20         8\n",
      "         class       0.03      1.00      0.06         1\n",
      "classification       0.00      0.00      0.00         1\n",
      "          club       0.07      1.00      0.14         2\n",
      "          code       0.42      0.77      0.55        22\n",
      "    collection       0.40      0.67      0.50         3\n",
      "       command       0.00      0.00      0.00         1\n",
      "       company       0.38      0.90      0.53        20\n",
      "     component       0.15      1.00      0.27         2\n",
      "     continent       0.00      0.00      0.00         0\n",
      "       country       0.14      0.83      0.24         6\n",
      "        county       0.30      0.39      0.34        18\n",
      "       creator       0.00      0.00      0.00         0\n",
      "        credit       0.12      0.33      0.18         3\n",
      "      currency       0.67      1.00      0.80         2\n",
      "           day       0.40      1.00      0.57        12\n",
      "         depth       0.00      0.00      0.00         0\n",
      "   description       0.05      0.09      0.06        23\n",
      "      director       0.00      0.00      0.00         0\n",
      "      duration       0.62      0.95      0.75        19\n",
      "     education       0.00      0.00      0.00         0\n",
      "     elevation       0.00      0.00      0.00         0\n",
      "        family       0.38      1.00      0.56         5\n",
      "     file Size       1.00      1.00      1.00         4\n",
      "        format       0.68      0.93      0.78        27\n",
      "        gender       0.19      0.05      0.07        64\n",
      "         genre       0.00      0.00      0.00         1\n",
      "        grades       0.59      1.00      0.74        13\n",
      "      industry       0.38      0.75      0.50        12\n",
      "          isbn       1.00      1.00      1.00        16\n",
      "        jockey       0.12      0.57      0.20         7\n",
      "      language       0.23      0.75      0.35         4\n",
      "      location       0.04      0.17      0.06         6\n",
      "  manufacturer       0.13      0.50      0.21         4\n",
      "          name       0.03      0.11      0.05         9\n",
      "   nationality       0.00      0.00      0.00         1\n",
      "         notes       0.27      0.10      0.15        77\n",
      "      operator       0.00      0.00      0.00         1\n",
      "         order       0.62      0.67      0.65        15\n",
      "  organisation       0.00      0.00      0.00         3\n",
      "        origin       0.11      0.25      0.15         8\n",
      "         owner       0.05      0.20      0.08         5\n",
      "        person       0.12      0.07      0.09        14\n",
      "         plays       0.00      0.00      0.00         0\n",
      "      position       0.35      0.04      0.08       298\n",
      "       product       0.09      0.11      0.10        28\n",
      "     publisher       0.44      0.12      0.19        33\n",
      "         range       0.60      0.38      0.46         8\n",
      "          rank       0.00      0.00      0.00         7\n",
      "       ranking       0.00      0.00      0.00         0\n",
      "        region       0.19      0.12      0.15        49\n",
      "      religion       0.75      0.75      0.75         4\n",
      "   requirement       0.25      0.07      0.11        14\n",
      "        result       0.58      0.48      0.53        31\n",
      "         sales       0.00      0.00      0.00         0\n",
      "       service       0.81      0.94      0.87        18\n",
      "           sex       0.16      0.14      0.15        35\n",
      "       species       0.22      0.09      0.13        22\n",
      "         state       0.71      0.31      0.43        72\n",
      "        status       0.71      0.52      0.60        48\n",
      "        symbol       0.89      0.65      0.76        26\n",
      "          team       0.49      0.22      0.30        88\n",
      "     team Name       0.08      0.05      0.06        19\n",
      "          type       0.31      0.21      0.25        53\n",
      "        weight       0.60      0.25      0.36        95\n",
      "          year       0.84      0.37      0.51        70\n",
      "\n",
      "      accuracy                           0.29      1500\n",
      "     macro avg       0.26      0.38      0.26      1500\n",
      "  weighted avg       0.42      0.29      0.30      1500\n",
      "\n"
     ]
    },
    {
     "name": "stderr",
     "output_type": "stream",
     "text": [
      "/opt/miniconda3/lib/python3.8/site-packages/sklearn/metrics/_classification.py:1318: UndefinedMetricWarning: Recall and F-score are ill-defined and being set to 0.0 in labels with no true samples. Use `zero_division` parameter to control this behavior.\n",
      "  _warn_prf(average, modifier, msg_start, len(result))\n",
      "/opt/miniconda3/lib/python3.8/site-packages/sklearn/metrics/_classification.py:1318: UndefinedMetricWarning: Recall and F-score are ill-defined and being set to 0.0 in labels with no true samples. Use `zero_division` parameter to control this behavior.\n",
      "  _warn_prf(average, modifier, msg_start, len(result))\n",
      "/opt/miniconda3/lib/python3.8/site-packages/sklearn/metrics/_classification.py:1318: UndefinedMetricWarning: Recall and F-score are ill-defined and being set to 0.0 in labels with no true samples. Use `zero_division` parameter to control this behavior.\n",
      "  _warn_prf(average, modifier, msg_start, len(result))\n"
     ]
    }
   ],
   "source": [
    "print(classification_report(given_labeles, labels, output_dict = False))"
   ]
  },
  {
   "cell_type": "code",
   "execution_count": 12,
   "id": "4bfb03c5",
   "metadata": {},
   "outputs": [
    {
     "data": {
      "text/plain": [
       "False    0.706\n",
       "True     0.294\n",
       "Name: similar, dtype: float64"
      ]
     },
     "execution_count": 12,
     "metadata": {},
     "output_type": "execute_result"
    }
   ],
   "source": [
    "acc['similar'].value_counts(True)"
   ]
  },
  {
   "cell_type": "code",
   "execution_count": null,
   "id": "5e88cdbd",
   "metadata": {},
   "outputs": [],
   "source": []
  },
  {
   "cell_type": "code",
   "execution_count": null,
   "id": "4775f903",
   "metadata": {},
   "outputs": [],
   "source": []
  },
  {
   "cell_type": "code",
   "execution_count": null,
   "id": "6678e7c4",
   "metadata": {},
   "outputs": [],
   "source": []
  },
  {
   "cell_type": "code",
   "execution_count": null,
   "id": "11d15d37",
   "metadata": {},
   "outputs": [],
   "source": []
  },
  {
   "cell_type": "code",
   "execution_count": null,
   "id": "54eb4c2f",
   "metadata": {},
   "outputs": [],
   "source": []
  },
  {
   "cell_type": "code",
   "execution_count": 13,
   "id": "9db65eac",
   "metadata": {},
   "outputs": [],
   "source": [
    "#Testing New Parameters\n",
    "clf = tree.DecisionTreeClassifier(criterion='entropy')\n",
    "clf = clf.fit(X, Y)"
   ]
  },
  {
   "cell_type": "code",
   "execution_count": 14,
   "id": "bfb23a6e",
   "metadata": {},
   "outputs": [
    {
     "name": "stderr",
     "output_type": "stream",
     "text": [
      "/var/folders/8g/1_g21rsx5zbc0ldsn_jwc7_w0000gn/T/ipykernel_51478/3735501266.py:3: FutureWarning: The behavior of `series[i:j]` with an integer-dtype index is deprecated. In a future version, this will be treated as *label-based* indexing, consistent with e.g. `series[i]` lookups. To retain the old behavior, use `series.iloc[i:j]`. To get the future behavior, use `series.loc[i:j]`.\n",
      "  for i in data[0:ind].index:\n",
      "/var/folders/8g/1_g21rsx5zbc0ldsn_jwc7_w0000gn/T/ipykernel_51478/3584455270.py:3: FutureWarning: The behavior of `series[i:j]` with an integer-dtype index is deprecated. In a future version, this will be treated as *label-based* indexing, consistent with e.g. `series[i]` lookups. To retain the old behavior, use `series.iloc[i:j]`. To get the future behavior, use `series.loc[i:j]`.\n",
      "  labels = df_test_l['type'][0:y_index]\n"
     ]
    }
   ],
   "source": [
    "given_labeles = process_test(df_test_val['values'], y_index)\n",
    "\n",
    "labels = df_test_l['type'][0:y_index]\n",
    "\n",
    "valu = list(zip(given_labeles, labels))\n",
    "\n",
    "acc = pd.DataFrame(valu, columns = ['True', 'Assigned'], index = df_test_l.index[0:y_index])\n",
    "\n",
    "similar = []\n",
    "for i in acc.values:\n",
    "    if i[0] == i[1]:\n",
    "        similar.append(True)\n",
    "    elif i[0] != i[1]:\n",
    "        similar.append(False)\n",
    "acc['similar'] = similar"
   ]
  },
  {
   "cell_type": "code",
   "execution_count": 15,
   "id": "682e6674",
   "metadata": {},
   "outputs": [
    {
     "name": "stdout",
     "output_type": "stream",
     "text": [
      "                precision    recall  f1-score   support\n",
      "\n",
      "       address       0.06      0.67      0.11         3\n",
      "     affiliate       0.00      0.00      0.00         0\n",
      "   affiliation       0.17      1.00      0.30         4\n",
      "           age       0.50      0.85      0.63        13\n",
      "         album       0.00      0.00      0.00         8\n",
      "          area       0.22      0.67      0.33         6\n",
      "        artist       0.03      0.33      0.05         3\n",
      "    birth Date       0.00      0.00      0.00         0\n",
      "   birth Place       0.00      0.00      0.00         1\n",
      "         brand       0.00      0.00      0.00         0\n",
      "      capacity       0.33      1.00      0.50         1\n",
      "      category       0.04      0.33      0.06         3\n",
      "          city       0.12      0.44      0.19         9\n",
      "         class       0.03      1.00      0.06         1\n",
      "classification       0.00      0.00      0.00         1\n",
      "          club       0.07      0.67      0.13         3\n",
      "          code       0.42      0.77      0.55        22\n",
      "    collection       0.40      0.67      0.50         3\n",
      "       command       0.00      0.00      0.00         1\n",
      "       company       0.33      0.89      0.48        18\n",
      "     component       0.15      1.00      0.27         2\n",
      "     continent       0.00      0.00      0.00         0\n",
      "       country       0.17      0.75      0.28         8\n",
      "        county       0.35      0.50      0.41        16\n",
      "       creator       0.00      0.00      0.00         0\n",
      "        credit       0.12      0.33      0.18         3\n",
      "      currency       0.67      1.00      0.80         2\n",
      "           day       0.40      1.00      0.57        12\n",
      "         depth       0.00      0.00      0.00         0\n",
      "   description       0.07      0.13      0.10        23\n",
      "      director       0.00      0.00      0.00         0\n",
      "      duration       0.62      0.95      0.75        19\n",
      "     education       0.00      0.00      0.00         0\n",
      "     elevation       0.00      0.00      0.00         0\n",
      "        family       0.46      1.00      0.63         6\n",
      "     file Size       1.00      1.00      1.00         4\n",
      "        format       0.65      0.89      0.75        27\n",
      "        gender       0.19      0.05      0.07        64\n",
      "         genre       0.09      0.33      0.14         3\n",
      "        grades       0.59      0.93      0.72        14\n",
      "      industry       0.29      0.88      0.44         8\n",
      "          isbn       1.00      1.00      1.00        16\n",
      "        jockey       0.09      0.50      0.15         6\n",
      "      language       0.15      1.00      0.27         2\n",
      "      location       0.08      0.22      0.11         9\n",
      "  manufacturer       0.13      1.00      0.24         2\n",
      "          name       0.03      0.10      0.05        10\n",
      "   nationality       0.00      0.00      0.00         2\n",
      "         notes       0.23      0.08      0.12        83\n",
      "      operator       0.00      0.00      0.00         0\n",
      "         order       0.62      0.71      0.67        14\n",
      "  organisation       0.00      0.00      0.00         3\n",
      "        origin       0.11      0.22      0.15         9\n",
      "         owner       0.00      0.00      0.00         2\n",
      "        person       0.12      0.08      0.10        12\n",
      "         plays       0.00      0.00      0.00         0\n",
      "      position       0.32      0.04      0.07       293\n",
      "       product       0.09      0.10      0.10        30\n",
      "     publisher       0.56      0.16      0.25        31\n",
      "         range       0.60      0.43      0.50         7\n",
      "          rank       0.00      0.00      0.00         7\n",
      "       ranking       0.00      0.00      0.00         0\n",
      "        region       0.16      0.14      0.15        35\n",
      "      religion       0.75      0.75      0.75         4\n",
      "   requirement       0.25      0.07      0.11        14\n",
      "        result       0.62      0.42      0.50        38\n",
      "         sales       0.00      0.00      0.00         1\n",
      "       service       0.81      0.71      0.76        24\n",
      "           sex       0.16      0.19      0.17        27\n",
      "       species       0.11      0.02      0.04        48\n",
      "         state       0.68      0.31      0.43        67\n",
      "        status       0.66      0.62      0.64        37\n",
      "        symbol       0.89      0.57      0.69        30\n",
      "          team       0.49      0.23      0.31        83\n",
      "     team Name       0.00      0.00      0.00        24\n",
      "          type       0.31      0.20      0.24        54\n",
      "        weight       0.60      0.26      0.36        94\n",
      "          year       0.84      0.37      0.51        71\n",
      "\n",
      "      accuracy                           0.29      1500\n",
      "     macro avg       0.26      0.39      0.26      1500\n",
      "  weighted avg       0.40      0.29      0.29      1500\n",
      "\n"
     ]
    },
    {
     "name": "stderr",
     "output_type": "stream",
     "text": [
      "/opt/miniconda3/lib/python3.8/site-packages/sklearn/metrics/_classification.py:1318: UndefinedMetricWarning: Recall and F-score are ill-defined and being set to 0.0 in labels with no true samples. Use `zero_division` parameter to control this behavior.\n",
      "  _warn_prf(average, modifier, msg_start, len(result))\n",
      "/opt/miniconda3/lib/python3.8/site-packages/sklearn/metrics/_classification.py:1318: UndefinedMetricWarning: Recall and F-score are ill-defined and being set to 0.0 in labels with no true samples. Use `zero_division` parameter to control this behavior.\n",
      "  _warn_prf(average, modifier, msg_start, len(result))\n",
      "/opt/miniconda3/lib/python3.8/site-packages/sklearn/metrics/_classification.py:1318: UndefinedMetricWarning: Recall and F-score are ill-defined and being set to 0.0 in labels with no true samples. Use `zero_division` parameter to control this behavior.\n",
      "  _warn_prf(average, modifier, msg_start, len(result))\n"
     ]
    }
   ],
   "source": [
    "print(classification_report(given_labeles, labels, output_dict = False))"
   ]
  },
  {
   "cell_type": "code",
   "execution_count": 16,
   "id": "554f79f0",
   "metadata": {},
   "outputs": [
    {
     "data": {
      "text/plain": [
       "False    0.710667\n",
       "True     0.289333\n",
       "Name: similar, dtype: float64"
      ]
     },
     "execution_count": 16,
     "metadata": {},
     "output_type": "execute_result"
    }
   ],
   "source": [
    "acc['similar'].value_counts(True)\n",
    "# Did not provide better results. "
   ]
  }
 ],
 "metadata": {
  "kernelspec": {
   "display_name": "Python 3 (ipykernel)",
   "language": "python",
   "name": "python3"
  },
  "language_info": {
   "codemirror_mode": {
    "name": "ipython",
    "version": 3
   },
   "file_extension": ".py",
   "mimetype": "text/x-python",
   "name": "python",
   "nbconvert_exporter": "python",
   "pygments_lexer": "ipython3",
   "version": "3.8.2"
  }
 },
 "nbformat": 4,
 "nbformat_minor": 5
}
