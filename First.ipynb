{
 "cells": [
  {
   "cell_type": "code",
   "execution_count": 1,
   "id": "ad53a634",
   "metadata": {},
   "outputs": [],
   "source": [
    "# Setting up imports\n",
    "\n",
    "from nltk.tokenize import sent_tokenize\n",
    "from sklearn.preprocessing import OneHotEncoder\n",
    "\n",
    "import pandas as pd\n",
    "from sklearn import tree\n",
    "from sklearn.preprocessing import OneHotEncoder as ohe\n",
    "import numpy as np\n",
    "from sklearn.neural_network import MLPClassifier\n",
    "from sklearn.metrics import classification_report\n",
    "\n",
    "#from tensorflow import keras\n",
    "from typing import List\n",
    "#from keras.preprocessing.text import Tokenizer\n"
   ]
  },
  {
   "cell_type": "code",
   "execution_count": null,
   "id": "f4bddfbf",
   "metadata": {},
   "outputs": [],
   "source": []
  },
  {
   "cell_type": "markdown",
   "id": "590c082d",
   "metadata": {},
   "source": [
    "Look into Bag of Words\n"
   ]
  },
  {
   "cell_type": "code",
   "execution_count": 2,
   "id": "08787208",
   "metadata": {},
   "outputs": [
    {
     "name": "stderr",
     "output_type": "stream",
     "text": [
      "/var/folders/8g/1_g21rsx5zbc0ldsn_jwc7_w0000gn/T/ipykernel_9240/947578884.py:13: FutureWarning: The behavior of `series[i:j]` with an integer-dtype index is deprecated. In a future version, this will be treated as *label-based* indexing, consistent with e.g. `series[i]` lookups. To retain the old behavior, use `series.iloc[i:j]`. To get the future behavior, use `series.loc[i:j]`.\n",
      "  index = df_train_val['values'][0:x_index].index\n"
     ]
    }
   ],
   "source": [
    "#Loading in Data\n",
    "df_temp = pd.read_parquet('temporary.parquet')\n",
    "df_test_l = pd.read_parquet('test_labels.parquet')\n",
    "df_test_val = pd.read_parquet('test_values.parquet')\n",
    "df_train_l = pd.read_parquet('train_labels.parquet')\n",
    "df_train_val = pd.read_parquet('train_values.parquet')\n",
    "df_val_l = pd.read_parquet('val_labels.parquet')\n",
    "df_val_val = pd.read_parquet('val_values.parquet')\n",
    "\n",
    "x_index = 300000\n",
    "y_index = 150000\n",
    "\n",
    "index = df_train_val['values'][0:x_index].index"
   ]
  },
  {
   "cell_type": "code",
   "execution_count": 3,
   "id": "fd98dab6",
   "metadata": {},
   "outputs": [
    {
     "name": "stderr",
     "output_type": "stream",
     "text": [
      "/var/folders/8g/1_g21rsx5zbc0ldsn_jwc7_w0000gn/T/ipykernel_9240/640236032.py:1: FutureWarning: The behavior of `series[i:j]` with an integer-dtype index is deprecated. In a future version, this will be treated as *label-based* indexing, consistent with e.g. `series[i]` lookups. To retain the old behavior, use `series.iloc[i:j]`. To get the future behavior, use `series.loc[i:j]`.\n",
      "  len(df_train_l['type'][0:400000].unique())\n"
     ]
    },
    {
     "data": {
      "text/plain": [
       "78"
      ]
     },
     "execution_count": 3,
     "metadata": {},
     "output_type": "execute_result"
    }
   ],
   "source": [
    "len(df_train_l['type'][0:400000].unique())"
   ]
  },
  {
   "cell_type": "code",
   "execution_count": 4,
   "id": "bbfe86ca",
   "metadata": {},
   "outputs": [],
   "source": [
    "# Split testing data into individual values\n",
    "temp_data = []\n",
    "data = []\n",
    "for i in index:\n",
    "    te = df_train_val['values'][i].split(',')\n",
    "    \n",
    "    for j in te:\n",
    "        j = j.strip(\"''\").strip('[').strip(']').strip(\"'\").strip(\" '\")\n",
    "        data.append([j, df_train_l['type'][i]])\n",
    "    temp_data.append(data)"
   ]
  },
  {
   "cell_type": "code",
   "execution_count": 5,
   "id": "9693aaac",
   "metadata": {},
   "outputs": [],
   "source": [
    "def collect_features(string):\n",
    "    feature = []\n",
    "    length = len(string)\n",
    "    num_len = 0\n",
    "    space_len = 0\n",
    "    special_len = 0\n",
    "    vowel_len = 0\n",
    "    v_a = 0\n",
    "    v_e = 0\n",
    "    v_i = 0\n",
    "    v_o = 0\n",
    "    v_u = 0\n",
    "    v_a = 0\n",
    "    v_e = 0\n",
    "    v_i = 0\n",
    "    v_o = 0\n",
    "    v_u = 0\n",
    "    c_b = 0\n",
    "    c_c = 0\n",
    "    c_d = 0\n",
    "    c_f = 0\n",
    "    c_g = 0\n",
    "    c_h = 0\n",
    "    c_j = 0\n",
    "    c_k = 0\n",
    "    c_l = 0\n",
    "    c_m = 0\n",
    "    c_n = 0\n",
    "    c_p = 0\n",
    "    c_q = 0\n",
    "    c_r = 0\n",
    "    c_s = 0\n",
    "    c_t = 0\n",
    "    c_v = 0\n",
    "    c_w = 0\n",
    "    c_x = 0\n",
    "    c_y = 0\n",
    "    c_z = 0\n",
    "    n_0 = 0\n",
    "    n_1 = 0\n",
    "    n_2 = 0\n",
    "    n_3 = 0\n",
    "    n_4 = 0\n",
    "    n_5 = 0\n",
    "    n_6 = 0\n",
    "    n_7 = 0\n",
    "    n_8 = 0\n",
    "    n_9 = 0\n",
    "    for j in string:\n",
    "        if j.isnumeric():\n",
    "            num_len += 1\n",
    "        if j.isspace():\n",
    "            space_len += 1\n",
    "        if not j.isalnum() and not j.isspace():\n",
    "             special_len += 1\n",
    "        if j == 'a' or j == 'e' or j == 'i' or j == 'o' or j == 'u' or j == 'A' or j == 'E' or j == 'I' or j == 'O' or j == 'U':\n",
    "            vowel_len += 1\n",
    "        if j == 'a' or j == 'A':\n",
    "            v_a += 1\n",
    "        if j == 'e' or j == 'E':\n",
    "            v_e += 1 \n",
    "        if j == 'i' or j == 'I':\n",
    "            v_i += 1\n",
    "        if j == 'o' or j == 'O':\n",
    "            v_o += 1\n",
    "        if j == 'u' or j == 'U':\n",
    "            v_u += 1\n",
    "        if j == 'b' or j == 'B':\n",
    "            c_b += 1\n",
    "        if j == 'c' or j == 'C':\n",
    "            c_c += 1 \n",
    "        if j == 'd' or j == 'D':\n",
    "            c_d += 1\n",
    "        if j == 'f' or j == 'F':\n",
    "            c_f += 1\n",
    "        if j == 'g' or j == 'G':\n",
    "            c_g += 1\n",
    "        if j == 'h' or j == 'H':\n",
    "            c_h += 1\n",
    "        if j == 'j' or j == 'J':\n",
    "            c_j += 1 \n",
    "        if j == 'k' or j == 'K':\n",
    "            c_k += 1\n",
    "        if j == 'l' or j == 'L':\n",
    "            c_l += 1\n",
    "        if j == 'm' or j == 'M':\n",
    "            c_m += 1\n",
    "        if j == 'n' or j == 'N':\n",
    "            c_n += 1\n",
    "        if j == 'p' or j == 'P':\n",
    "            c_p += 1 \n",
    "        if j == 'q' or j == 'Q':\n",
    "            c_q += 1\n",
    "        if j == 'r' or j == 'R':\n",
    "            c_r += 1\n",
    "        if j == 's' or j == 'S':\n",
    "            c_s += 1\n",
    "        if j == 't' or j == 'T':\n",
    "            c_t += 1\n",
    "        if j == 'v' or j == 'V':\n",
    "            c_v += 1\n",
    "        if j == 'w' or j == 'W':\n",
    "            c_w += 1\n",
    "        if j == 'x' or j == 'X':\n",
    "            c_x += 1 \n",
    "        if j == 't' or j == 'Y':\n",
    "            c_y += 1\n",
    "        if j == 'z' or j == 'Z':\n",
    "            c_z += 1\n",
    "        if j == 0:\n",
    "            n_0 += 1\n",
    "        if j == 1:\n",
    "            n_1 += 1\n",
    "        if j == 2:\n",
    "            n_2 += 1\n",
    "        if j == 3:\n",
    "            n_3 += 1\n",
    "        if j == 4:\n",
    "            n_4 += 1\n",
    "        if j == 5:\n",
    "            n_5 += 1\n",
    "        if j == 6:\n",
    "            n_6 += 1\n",
    "        if j == 7:\n",
    "            n_7 += 1\n",
    "        if j == 8:\n",
    "            n_8 += 1\n",
    "        if j == 9:\n",
    "            n_9 += 1\n",
    "        #temp.append(length, num_len, space_len, special_len, vowel_len)\n",
    "    feature.append([length, num_len, space_len, special_len, vowel_len, v_a, v_e, v_i, v_o, v_u, \n",
    "                                  c_b, c_c, c_d, c_f, c_g, c_h, c_j, c_k, c_l, c_m, c_n, c_p, c_q, \n",
    "                                  c_r, c_s, c_t, c_v, c_w, c_x, c_y, c_z, n_0, n_1, n_2, n_3, n_4, n_5, n_6, \n",
    "                                  n_7, n_8, n_9])\n",
    "    return feature[0]"
   ]
  },
  {
   "cell_type": "code",
   "execution_count": 6,
   "id": "e58c8529",
   "metadata": {},
   "outputs": [],
   "source": [
    "def process_features(data_file):\n",
    "    y = []\n",
    "    data = []\n",
    "    for i in data_file: \n",
    "        temp = []\n",
    "        y.append(i[1])\n",
    "        \n",
    "        m = i[0].strip(\"''\").strip(\"'\").replace('[', '')\n",
    "        feat = collect_features(m)\n",
    "        \n",
    "        data.append(feat)\n",
    "    return y, data"
   ]
  },
  {
   "cell_type": "code",
   "execution_count": 7,
   "id": "1c357958",
   "metadata": {},
   "outputs": [],
   "source": [
    "def process_test(data, ind):\n",
    "    labels = []\n",
    "    for i in data[0:ind].index:\n",
    "        samples = []\n",
    "        te = data[i].split(',')\n",
    "        for j in te:\n",
    "            d = j.strip(\"''\").strip('[').strip(']').strip(\"'\").strip(\" '\")\n",
    "            feat = collect_features(d)\n",
    "            samples.append(feat)\n",
    "        #print(df_test_val['values'][i])\n",
    "        ans = clf.predict(samples)\n",
    "        labels.append(max(ans))\n",
    "    return labels  \n",
    "        #print(ans)"
   ]
  },
  {
   "cell_type": "code",
   "execution_count": 8,
   "id": "ddb25504",
   "metadata": {},
   "outputs": [],
   "source": [
    "Y, X = process_features(data)"
   ]
  },
  {
   "cell_type": "code",
   "execution_count": null,
   "id": "8262986b",
   "metadata": {},
   "outputs": [],
   "source": [
    "clf = tree.DecisionTreeClassifier()\n",
    "clf = clf.fit(X, Y)"
   ]
  },
  {
   "cell_type": "code",
   "execution_count": null,
   "id": "222858ba",
   "metadata": {},
   "outputs": [],
   "source": [
    "given_labeles = process_test(df_test_val['values'], y_index)\n",
    "\n",
    "labels = df_test_l['type'][0:y_index]\n",
    "\n",
    "valu = list(zip(given_labeles, labels))\n",
    "\n",
    "acc = pd.DataFrame(valu, columns = ['True', 'Assigned'], index = df_test_l.index[0:y_index])\n",
    "\n",
    "similar = []\n",
    "for i in acc.values:\n",
    "    if i[0] == i[1]:\n",
    "        similar.append(True)\n",
    "    elif i[0] != i[1]:\n",
    "        similar.append(False)\n",
    "acc['similar'] = similar"
   ]
  },
  {
   "cell_type": "code",
   "execution_count": null,
   "id": "be182189",
   "metadata": {},
   "outputs": [],
   "source": [
    "print(classification_report(given_labeles, labels, output_dict = False))"
   ]
  },
  {
   "cell_type": "code",
   "execution_count": null,
   "id": "4bfb03c5",
   "metadata": {},
   "outputs": [],
   "source": [
    "acc['similar'].value_counts(True)"
   ]
  },
  {
   "cell_type": "code",
   "execution_count": null,
   "id": "5e88cdbd",
   "metadata": {},
   "outputs": [],
   "source": []
  },
  {
   "cell_type": "code",
   "execution_count": null,
   "id": "4775f903",
   "metadata": {},
   "outputs": [],
   "source": []
  },
  {
   "cell_type": "code",
   "execution_count": null,
   "id": "6678e7c4",
   "metadata": {},
   "outputs": [],
   "source": []
  },
  {
   "cell_type": "code",
   "execution_count": null,
   "id": "11d15d37",
   "metadata": {},
   "outputs": [],
   "source": []
  },
  {
   "cell_type": "code",
   "execution_count": null,
   "id": "54eb4c2f",
   "metadata": {},
   "outputs": [],
   "source": []
  },
  {
   "cell_type": "code",
   "execution_count": null,
   "id": "9db65eac",
   "metadata": {},
   "outputs": [],
   "source": [
    "#New Parameters\n",
    "clf = tree.DecisionTreeClassifier(criterion='entropy')\n",
    "clf = clf.fit(X, Y)"
   ]
  },
  {
   "cell_type": "code",
   "execution_count": null,
   "id": "bfb23a6e",
   "metadata": {},
   "outputs": [],
   "source": [
    "given_labeles = process_test(df_test_val['values'], y_index)\n",
    "\n",
    "labels = df_test_l['type'][0:y_index]\n",
    "\n",
    "valu = list(zip(given_labeles, labels))\n",
    "\n",
    "acc = pd.DataFrame(valu, columns = ['True', 'Assigned'], index = df_test_l.index[0:y_index])\n",
    "\n",
    "similar = []\n",
    "for i in acc.values:\n",
    "    if i[0] == i[1]:\n",
    "        similar.append(True)\n",
    "    elif i[0] != i[1]:\n",
    "        similar.append(False)\n",
    "acc['similar'] = similar"
   ]
  },
  {
   "cell_type": "code",
   "execution_count": null,
   "id": "682e6674",
   "metadata": {},
   "outputs": [],
   "source": [
    "print(classification_report(given_labeles, labels, output_dict = False))"
   ]
  },
  {
   "cell_type": "code",
   "execution_count": null,
   "id": "554f79f0",
   "metadata": {},
   "outputs": [],
   "source": [
    "acc['similar'].value_counts(True)"
   ]
  },
  {
   "cell_type": "code",
   "execution_count": null,
   "id": "1507169a",
   "metadata": {},
   "outputs": [],
   "source": []
  },
  {
   "cell_type": "code",
   "execution_count": null,
   "id": "ddb9fb92",
   "metadata": {},
   "outputs": [],
   "source": [
    "#New Parameters\n",
    "clf = tree.DecisionTreeClassifier(criterion='log_loss')\n",
    "clf = clf.fit(X, Y)"
   ]
  },
  {
   "cell_type": "code",
   "execution_count": null,
   "id": "e3596d6c",
   "metadata": {},
   "outputs": [],
   "source": [
    "given_labeles = process_test(df_test_val['values'], y_index)\n",
    "\n",
    "labels = df_test_l['type'][0:y_index]\n",
    "\n",
    "valu = list(zip(given_labeles, labels))\n",
    "\n",
    "acc = pd.DataFrame(valu, columns = ['True', 'Assigned'], index = df_test_l.index[0:y_index])\n",
    "\n",
    "similar = []\n",
    "for i in acc.values:\n",
    "    if i[0] == i[1]:\n",
    "        similar.append(True)\n",
    "    elif i[0] != i[1]:\n",
    "        similar.append(False)\n",
    "acc['similar'] = similar"
   ]
  },
  {
   "cell_type": "code",
   "execution_count": null,
   "id": "e1aba43c",
   "metadata": {},
   "outputs": [],
   "source": [
    "print(classification_report(given_labeles, labels, output_dict = False))"
   ]
  },
  {
   "cell_type": "code",
   "execution_count": null,
   "id": "531b69ad",
   "metadata": {},
   "outputs": [],
   "source": [
    "acc['similar'].value_counts(True)"
   ]
  },
  {
   "cell_type": "code",
   "execution_count": null,
   "id": "e0971ca5",
   "metadata": {},
   "outputs": [],
   "source": []
  },
  {
   "cell_type": "code",
   "execution_count": null,
   "id": "7232e045",
   "metadata": {},
   "outputs": [],
   "source": [
    "#New Parameters\n",
    "clf = tree.DecisionTreeClassifier()\n",
    "clf = clf.fit(X, Y)"
   ]
  },
  {
   "cell_type": "code",
   "execution_count": null,
   "id": "e3b2d428",
   "metadata": {},
   "outputs": [],
   "source": [
    "given_labeles = process_test(df_test_val['values'], y_index)\n",
    "\n",
    "labels = df_test_l['type'][0:y_index]\n",
    "\n",
    "valu = list(zip(given_labeles, labels))\n",
    "\n",
    "acc = pd.DataFrame(valu, columns = ['True', 'Assigned'], index = df_test_l.index[0:y_index])\n",
    "\n",
    "similar = []\n",
    "for i in acc.values:\n",
    "    if i[0] == i[1]:\n",
    "        similar.append(True)\n",
    "    elif i[0] != i[1]:\n",
    "        similar.append(False)\n",
    "acc['similar'] = similar"
   ]
  },
  {
   "cell_type": "code",
   "execution_count": null,
   "id": "38932acc",
   "metadata": {},
   "outputs": [],
   "source": [
    "print(classification_report(given_labeles, labels, output_dict = False))"
   ]
  },
  {
   "cell_type": "code",
   "execution_count": null,
   "id": "ec3d0801",
   "metadata": {},
   "outputs": [],
   "source": [
    "acc['similar'].value_counts(True)"
   ]
  },
  {
   "cell_type": "code",
   "execution_count": null,
   "id": "e0787e78",
   "metadata": {},
   "outputs": [],
   "source": []
  },
  {
   "cell_type": "code",
   "execution_count": null,
   "id": "083dc137",
   "metadata": {},
   "outputs": [],
   "source": []
  },
  {
   "cell_type": "code",
   "execution_count": null,
   "id": "843ffd4f",
   "metadata": {},
   "outputs": [],
   "source": []
  },
  {
   "cell_type": "code",
   "execution_count": null,
   "id": "0315576e",
   "metadata": {},
   "outputs": [],
   "source": []
  },
  {
   "cell_type": "code",
   "execution_count": null,
   "id": "cf129643",
   "metadata": {},
   "outputs": [],
   "source": []
  },
  {
   "cell_type": "code",
   "execution_count": null,
   "id": "30d29310",
   "metadata": {},
   "outputs": [],
   "source": []
  },
  {
   "cell_type": "code",
   "execution_count": null,
   "id": "92a09834",
   "metadata": {},
   "outputs": [],
   "source": [
    "#clf_1 = MLPClassifier(solver='lbfgs', alpha=1e-5,\n",
    "                     #hidden_layer_sizes=(5, 2), random_state=1)\n",
    "#clf.fit(X, Y)"
   ]
  },
  {
   "cell_type": "code",
   "execution_count": null,
   "id": "6af93ad6",
   "metadata": {},
   "outputs": [],
   "source": [
    "from sklearn.ensemble import RandomForestClassifier\n",
    "rfc = RandomForestClassifier()\n",
    "rfc.fit(X, Y)\n",
    "#y_pred = rfc.predict(X_test)"
   ]
  },
  {
   "cell_type": "code",
   "execution_count": null,
   "id": "272a43c7",
   "metadata": {},
   "outputs": [],
   "source": [
    "def process_test_randomforest(data, ind):\n",
    "    labels = []\n",
    "    for i in data[0:ind].index:\n",
    "        samples = []\n",
    "        te = data[i].split(',')\n",
    "        for j in te:\n",
    "            d = j.strip(\"''\").strip('[').strip(']').strip(\"'\").strip(\" '\")\n",
    "            feat = collect_features(d)\n",
    "            samples.append(feat)\n",
    "        #print(df_test_val['values'][i])\n",
    "        ans = rfc.predict(samples)\n",
    "        labels.append(max(ans))\n",
    "    return labels  \n",
    "        #print(ans)"
   ]
  },
  {
   "cell_type": "code",
   "execution_count": null,
   "id": "9beaab5f",
   "metadata": {},
   "outputs": [],
   "source": [
    "given_labeles = process_test_randomforest(df_test_val['values'], y_index)\n",
    "labels = df_test_l['type'][0:y_index]\n",
    "\n",
    "valu = list(zip(given_labeles, labels))\n",
    "\n",
    "acc = pd.DataFrame(valu, columns = ['True', 'Assigned'], index = df_test_l.index[0:y_index])\n",
    "\n",
    "similar = []\n",
    "for i in acc.values:\n",
    "    if i[0] == i[1]:\n",
    "        similar.append(True)\n",
    "    elif i[0] != i[1]:\n",
    "        similar.append(False)\n",
    "acc['similar'] = similar"
   ]
  },
  {
   "cell_type": "code",
   "execution_count": null,
   "id": "24c4ad22",
   "metadata": {},
   "outputs": [],
   "source": []
  },
  {
   "cell_type": "code",
   "execution_count": null,
   "id": "b278777c",
   "metadata": {},
   "outputs": [],
   "source": []
  },
  {
   "cell_type": "code",
   "execution_count": null,
   "id": "a548fed7",
   "metadata": {},
   "outputs": [],
   "source": []
  },
  {
   "cell_type": "code",
   "execution_count": null,
   "id": "9cf518f6",
   "metadata": {},
   "outputs": [],
   "source": []
  },
  {
   "cell_type": "code",
   "execution_count": null,
   "id": "f2f063eb",
   "metadata": {},
   "outputs": [],
   "source": []
  },
  {
   "cell_type": "code",
   "execution_count": null,
   "id": "10988943",
   "metadata": {},
   "outputs": [],
   "source": []
  },
  {
   "cell_type": "code",
   "execution_count": null,
   "id": "7b974134",
   "metadata": {},
   "outputs": [],
   "source": []
  },
  {
   "cell_type": "code",
   "execution_count": null,
   "id": "8adbcc29",
   "metadata": {},
   "outputs": [],
   "source": [
    "empty = pd.DataFrame(columns = [''])"
   ]
  },
  {
   "cell_type": "code",
   "execution_count": null,
   "id": "b087c388",
   "metadata": {},
   "outputs": [],
   "source": [
    "len(set(Y))"
   ]
  },
  {
   "cell_type": "code",
   "execution_count": null,
   "id": "af44c762",
   "metadata": {},
   "outputs": [],
   "source": [
    "len(df_test_l['type'].unique())"
   ]
  },
  {
   "cell_type": "code",
   "execution_count": null,
   "id": "5cb7d942",
   "metadata": {},
   "outputs": [],
   "source": [
    "Y_index = df_test_val['values'][0:150000].index"
   ]
  },
  {
   "cell_type": "code",
   "execution_count": null,
   "id": "9b2e733e",
   "metadata": {},
   "outputs": [],
   "source": [
    "new_x = []\n",
    "new_y =[]\n",
    "count = 0\n",
    "for i in Y_index:\n",
    "    te = df_test_val['values'][i].split(', ')\n",
    "    if len(te) > 5:\n",
    "        new_y.append(df_test_l['type'][i])\n",
    "        new_x.append(df_test_val['values'][i].split(', '))\n"
   ]
  },
  {
   "cell_type": "code",
   "execution_count": null,
   "id": "b3cadd36",
   "metadata": {},
   "outputs": [],
   "source": [
    "new_x"
   ]
  },
  {
   "cell_type": "code",
   "execution_count": null,
   "id": "771b9ab9",
   "metadata": {},
   "outputs": [],
   "source": [
    "df_test_val['values'][20368]"
   ]
  },
  {
   "cell_type": "code",
   "execution_count": null,
   "id": "328e4561",
   "metadata": {},
   "outputs": [],
   "source": []
  },
  {
   "cell_type": "code",
   "execution_count": null,
   "id": "0e64035b",
   "metadata": {},
   "outputs": [],
   "source": []
  },
  {
   "cell_type": "code",
   "execution_count": null,
   "id": "e2eb6b7f",
   "metadata": {},
   "outputs": [],
   "source": [
    "def process_new_test(data):\n",
    "    labels = []\n",
    "    true_y = []\n",
    "    for i in data:\n",
    "        samples = []\n",
    "        te = i\n",
    "        for j in te:\n",
    "            d = j.strip(\"''\").strip('[').strip(']').strip(\"'\").strip(\" '\")\n",
    "            feat = collect_features(d)\n",
    "            samples.append(feat)\n",
    "        #print(df_test_val['values'][i])\n",
    "        ans = clf.predict(samples)\n",
    "        labels.append(max(ans))\n",
    "        true.append()\n",
    "    return labels, true_y  \n",
    "        #print(ans)"
   ]
  },
  {
   "cell_type": "code",
   "execution_count": null,
   "id": "ac09e0be",
   "metadata": {},
   "outputs": [],
   "source": [
    "given_labeles, true_y = process_new_test(new_x)\n",
    "\n",
    "#labels = df_test_l['type'][0:y_index]\n",
    "\n",
    "valu = list(zip(given_labeles, labels))\n",
    "\n",
    "acc = pd.DataFrame(valu, columns = ['True', 'Assigned'], index = df_test_l.index[0:y_index])\n",
    "\n",
    "similar = []\n",
    "for i in acc.values:\n",
    "    if i[0] == i[1]:\n",
    "        similar.append(True)\n",
    "    elif i[0] != i[1]:\n",
    "        similar.append(False)\n",
    "acc['similar'] = similar"
   ]
  },
  {
   "cell_type": "code",
   "execution_count": null,
   "id": "b7542a58",
   "metadata": {},
   "outputs": [],
   "source": [
    "valu = list(zip(given_labeles, new_y))\n",
    "acc = pd.DataFrame(valu, columns = ['True', 'Assigned'])\n"
   ]
  },
  {
   "cell_type": "code",
   "execution_count": null,
   "id": "5e09fb73",
   "metadata": {},
   "outputs": [],
   "source": [
    "similar = []\n",
    "for i in acc.values:\n",
    "    if i[0] == i[1]:\n",
    "        similar.append(True)\n",
    "    elif i[0] != i[1]:\n",
    "        similar.append(False)\n",
    "acc['similar'] = similar"
   ]
  },
  {
   "cell_type": "code",
   "execution_count": null,
   "id": "96aeaf8a",
   "metadata": {},
   "outputs": [],
   "source": [
    "print(classification_report(given_labeles, new_y, output_dict = False))"
   ]
  },
  {
   "cell_type": "code",
   "execution_count": null,
   "id": "e4171cd1",
   "metadata": {},
   "outputs": [],
   "source": [
    "acc['similar'].value_counts(True)"
   ]
  },
  {
   "cell_type": "code",
   "execution_count": null,
   "id": "d25838c8",
   "metadata": {},
   "outputs": [],
   "source": []
  }
 ],
 "metadata": {
  "kernelspec": {
   "display_name": "Python 3 (ipykernel)",
   "language": "python",
   "name": "python3"
  },
  "language_info": {
   "codemirror_mode": {
    "name": "ipython",
    "version": 3
   },
   "file_extension": ".py",
   "mimetype": "text/x-python",
   "name": "python",
   "nbconvert_exporter": "python",
   "pygments_lexer": "ipython3",
   "version": "3.8.2"
  }
 },
 "nbformat": 4,
 "nbformat_minor": 5
}
